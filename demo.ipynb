{
 "cells": [
  {
   "attachments": {},
   "cell_type": "markdown",
   "metadata": {},
   "source": [
    "# This notebook describes how to calculate disk lifetimes based on the XEUV photoevaporation model.\n",
    "\n",
    "#### In order to calculate the disk lifetime of a given star, you need to provide its mass and X-ray luminosity as an input. In Monsch et al. (2023) we use resampled stellar properties from the Orion Nebula Cluster and Taurus for this purpose, but you can also get a good scaling of stellar mass vs. X-ray luminosity from a so-called X-ray luminosity function (XLF). "
   ]
  },
  {
   "cell_type": "code",
   "execution_count": 1,
   "metadata": {},
   "outputs": [],
   "source": [
    "import numpy as np\n",
    "from src import *"
   ]
  },
  {
   "attachments": {},
   "cell_type": "markdown",
   "metadata": {},
   "source": [
    "#### Example 1: single star"
   ]
  },
  {
   "cell_type": "code",
   "execution_count": 2,
   "metadata": {},
   "outputs": [
    {
     "name": "stdout",
     "output_type": "stream",
     "text": [
      "ONC:  2.3442288153199276e+30 erg/s, Taurus:  2.0417379446695234e+30  erg/s\n"
     ]
    }
   ],
   "source": [
    "Mstar = 1.0 # solar masses\n",
    "\n",
    "## find correspondian mean X-ray luminosity for this stellar mass based on an X-ray lumininosity function (XLF):\n",
    "Lx_ONC = LxMstar(Mstar, region='ONC')\n",
    "Lx_Taurus = LxMstar(Mstar, region='Taurus')\n",
    "\n",
    "print('ONC: ', Lx_ONC, 'erg/s, Taurus: ', Lx_Taurus, ' erg/s')\n"
   ]
  },
  {
   "cell_type": "code",
   "execution_count": 3,
   "metadata": {},
   "outputs": [
    {
     "name": "stdout",
     "output_type": "stream",
     "text": [
      "tdisc_ONC =  3.8491630453996346  Myr, tdisc_Taurus = 4.010727820316482 Myr\n"
     ]
    }
   ],
   "source": [
    "## we see that there is no big difference between the ONC and Taurus in terms of the corresponding mean X-ray luminosity for a 1.0 Msol star. \n",
    "\n",
    "tdisc_ONC = tdisc_mass(np.log10(Lx_ONC), Mstar)\n",
    "tdisc_Taurus = tdisc_mass(np.log10(Lx_Taurus), Mstar)\n",
    "\n",
    "\n",
    "print('tdisc_ONC = ', tdisc_ONC, ' Myr, tdisc_Taurus =', tdisc_Taurus, 'Myr')"
   ]
  },
  {
   "attachments": {},
   "cell_type": "markdown",
   "metadata": {},
   "source": [
    "### The script can be also called from the command line via\n",
    "\n",
    "#### python disk_lifetime_calculator.py Mstar[Msol] Lx[erg/s]"
   ]
  },
  {
   "attachments": {},
   "cell_type": "markdown",
   "metadata": {},
   "source": []
  },
  {
   "attachments": {},
   "cell_type": "markdown",
   "metadata": {},
   "source": []
  }
 ],
 "metadata": {
  "kernelspec": {
   "display_name": "base",
   "language": "python",
   "name": "python3"
  },
  "language_info": {
   "codemirror_mode": {
    "name": "ipython",
    "version": 3
   },
   "file_extension": ".py",
   "mimetype": "text/x-python",
   "name": "python",
   "nbconvert_exporter": "python",
   "pygments_lexer": "ipython3",
   "version": "3.10.9"
  },
  "orig_nbformat": 4
 },
 "nbformat": 4,
 "nbformat_minor": 2
}
